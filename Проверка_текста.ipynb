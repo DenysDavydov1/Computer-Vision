{
  "nbformat": 4,
  "nbformat_minor": 0,
  "metadata": {
    "colab": {
      "provenance": [],
      "authorship_tag": "ABX9TyP/XMrEAIEmOMTUO8OQqj93"
    },
    "kernelspec": {
      "name": "python3",
      "display_name": "Python 3"
    },
    "language_info": {
      "name": "python"
    }
  },
  "cells": [
    {
      "cell_type": "code",
      "source": [
        "import requests  # Импортируем библиотеку для работы с HTTP-запросами\n",
        "\n",
        "# Ссылка на изображение, которое будем отправлять в API\n",
        "url = 'https://pixeljets.com/blog/content/images/2021/12/scan_your_pdf.png'\n",
        "\n",
        "# API-ключ ()\n",
        "api_key = \"K88148143988957\"\n",
        "\n",
        "# Формируем URL для запроса к OCR API\n",
        "api = f'https://api.ocr.space/parse/imageurl?apikey={api_key}&url={url}'\n",
        "\n",
        "# Отправляем запрос к API\n",
        "ocr_results = requests.get(api)\n",
        "\n",
        "# Проверяем статус ответа\n",
        "if ocr_results.status_code == 200:\n",
        "    # Преобразуем результат в формат JSON\n",
        "    extracted_info = ocr_results.json()\n",
        "\n",
        "    # Извлекаем текст из результата и выводим его построчно\n",
        "    if \"ParsedResults\" in extracted_info and extracted_info[\"ParsedResults\"]:\n",
        "        parsed_text = extracted_info[\"ParsedResults\"][0][\"ParsedText\"]\n",
        "        print(\"Распознанный текст:\\n\")\n",
        "        print(parsed_text)  # Выводим текст, сохраняя его исходную структуру\n",
        "    else:\n",
        "        print(\"Ошибка: Не удалось извлечь текст из результата.\")\n",
        "else:\n",
        "    print(\"Ошибка: Запрос к API не удался. Код статуса:\", ocr_results.status_code)"
      ],
      "metadata": {
        "colab": {
          "base_uri": "https://localhost:8080/"
        },
        "id": "94TyaFsSU46m",
        "outputId": "3d5f7e1a-4bbd-4c0b-b095-c1a1f30448e9"
      },
      "execution_count": null,
      "outputs": [
        {
          "output_type": "stream",
          "name": "stdout",
          "text": [
            "Распознанный текст:\n",
            "\n",
            "http://custanerthink.comQ09180/\r\n",
            "What is Marketing?\r\n",
            "Chux Gervase\r\n",
            "Is it true that every tune people atempt to satisfy their needs by means of an exchange. is involved? Or\r\n",
            "is it false? I once posed this question b a group of marketing students. Their answers were as varéd and\r\n",
            "enterbining as a circus. The conversations that fbwed from this made b do a rethink about what marketing\r\n",
            "realty is.\r\n",
            "What is marketing? Several authors have defined marketing in various vays. The American Marketing Association\r\n",
            "defines marketing as the process of phnrmg and executing the conæption. pricing. promotion and distrbution of\r\n",
            "ideas. goods and semces creae exchanges that satisfy indivnual and organisational goals. Cronje, et al\r\n",
            "(2007:283) define markemg as consismg of management tasks and decisions direced at successfully meeting\r\n",
            "opportunities and threats in a dynamic environment, by effectively developing and transferring a need-satisfying\r\n",
            "market offering consumers. in such a way that the objectives of the business. the consumer and society will be\r\n",
            "acheved.\r\n",
            "\n"
          ]
        }
      ]
    },
    {
      "cell_type": "code",
      "source": [
        "import requests  # Импортируем библиотеку для работы с HTTP-запросами\n",
        "\n",
        "# Ссылка на изображение, которое будем отправлять в API\n",
        "url = 'https://metalbyexample.com/wp-content/uploads/figure-65.png'\n",
        "\n",
        "# Ваш API-ключ (замените на действующий, если требуется)\n",
        "api_key = \"K88148143988957\"\n",
        "\n",
        "# Формируем URL для запроса к OCR API\n",
        "api = f'https://api.ocr.space/parse/imageurl?apikey={api_key}&url={url}'\n",
        "\n",
        "# Отправляем запрос к API\n",
        "ocr_results = requests.get(api)\n",
        "\n",
        "# Проверяем статус ответа\n",
        "if ocr_results.status_code == 200:\n",
        "    # Преобразуем результат в формат JSON\n",
        "    extracted_info = ocr_results.json()\n",
        "\n",
        "    # Извлекаем текст из результата и выводим его построчно\n",
        "    if \"ParsedResults\" in extracted_info and extracted_info[\"ParsedResults\"]:\n",
        "        parsed_text = extracted_info[\"ParsedResults\"][0][\"ParsedText\"]\n",
        "        print(\"Распознанный текст:\\n\")\n",
        "        print(parsed_text)  # Выводим текст, сохраняя его исходную структуру\n",
        "    else:\n",
        "        print(\"Ошибка: Не удалось извлечь текст из результата.\")\n",
        "else:\n",
        "    print(\"Ошибка: Запрос к API не удался. Код статуса:\", ocr_results.status_code)"
      ],
      "metadata": {
        "colab": {
          "base_uri": "https://localhost:8080/"
        },
        "id": "gykVNlkcVFrx",
        "outputId": "0ee38b06-46ca-429a-89cf-5ac7fece494d"
      },
      "execution_count": null,
      "outputs": [
        {
          "output_type": "stream",
          "name": "stdout",
          "text": [
            "Распознанный текст:\n",
            "\n",
            "It was the best of\r\n",
            "times, it was the worst\r\n",
            "of times, it was the age\r\n",
            "of wisdom, it was the\r\n",
            "age of foolishness...\r\n",
            "\n"
          ]
        }
      ]
    }
  ]
}
